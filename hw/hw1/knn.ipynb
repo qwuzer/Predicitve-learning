{
 "cells": [
  {
   "cell_type": "markdown",
   "metadata": {},
   "source": [
    "### Problem 2.7"
   ]
  },
  {
   "cell_type": "code",
   "execution_count": 45,
   "metadata": {},
   "outputs": [
    {
     "data": {
      "text/plain": [
       "(9, 0.28)"
      ]
     },
     "execution_count": 45,
     "metadata": {},
     "output_type": "execute_result"
    }
   ],
   "source": [
    "from sklearn import neighbors\n",
    "from sklearn.model_selection import LeaveOneOut\n",
    "from sklearn.metrics import accuracy_score\n",
    "import numpy as np\n",
    "import pandas as pd\n",
    "\n",
    "df1 = pd.read_csv('obesity_election_2004.csv')\n",
    "df1.columns = ['State', 'index', 'vote', 'abbv']\n",
    "\n",
    "## Use 2004 as train\n",
    "# Convert the index str to float and save it as feature\n",
    "df1['index'] = df1['index'].str.replace('%', '').astype(float) \n",
    "X = df1['index'].values.reshape(-1,1) \n",
    "\n",
    "# Convert Democrats to 0 and Repulicans to 1 \n",
    "df1['vote'] = df1['vote'].map({'D': 0, 'R': 1}).values\n",
    "y = df1['vote']\n",
    "\n",
    "# Uses Leave one out cross validation to find the optimal k value\n",
    "loo = LeaveOneOut()\n",
    "k_vals = range(1,21)\n",
    "acc_scores = []\n",
    "\n",
    "for k in k_vals:\n",
    "    knn = neighbors.KNeighborsClassifier(n_neighbors=k)  \n",
    "    preds = []\n",
    "        \n",
    "    for i ,(train_index, test_index) in enumerate(loo.split(X)):\n",
    "        X_train, X_test = X[train_index], X[test_index]\n",
    "        y_train, y_test = y[train_index], y[test_index]\n",
    "        # print(f\"fold {i}\")\n",
    "        # print(f\"  Train: index={train_index}\")\n",
    "        # print(f\"  Test:  index={test_index}\")\n",
    "\n",
    "        knn.fit(X_train, y_train)\n",
    "        pred = knn.predict(X_test)\n",
    "        # print(f\"k = {k} i = {i} pred = {pred}\")\n",
    "        preds.append(pred)\n",
    "        \n",
    "    acc = accuracy_score(y, preds)\n",
    "    acc_scores.append(acc)\n",
    "    \n",
    "opt_k = k_vals[acc_scores.index(max(acc_scores))]\n",
    "opt_acc = max(acc_scores)\n",
    "res_err = 1 - opt_acc\n",
    "\n",
    "opt_k, res_err\n"
   ]
  },
  {
   "cell_type": "markdown",
   "metadata": {},
   "source": [
    "- When k = 9, the model has lowest resampling error with 28%\n",
    "- Use this model to predict the 2000's data"
   ]
  },
  {
   "cell_type": "code",
   "execution_count": 35,
   "metadata": {},
   "outputs": [
    {
     "data": {
      "text/plain": [
       "0.5"
      ]
     },
     "execution_count": 35,
     "metadata": {},
     "output_type": "execute_result"
    }
   ],
   "source": [
    "df2 = pd.read_csv('obesity_election_2000.csv')\n",
    "df2.columns = ['State', 'index', 'vote', 'abbv']\n",
    "\n",
    "df2['index'] = df2['index'].str.replace('%', '').astype(float) \n",
    "X_test = df2['index'].values.reshape(-1,1) \n",
    "\n",
    "df2['vote'] = df2['vote'].map({'D': 0, 'R': 1}).values\n",
    "y_test = df2['vote']\n",
    "\n",
    "\n",
    "knn = neighbors.KNeighborsClassifier(n_neighbors= opt_k)\n",
    "knn.fit(X, y) # take 2004 as training data\n",
    "y_pred = knn.predict(X_test)\n",
    "\n",
    "acc = accuracy_score(y_test, y_pred)\n",
    "test_err = 1 - acc\n",
    "\n",
    "test_err\n"
   ]
  },
  {
   "cell_type": "markdown",
   "metadata": {},
   "source": [
    "- The test error rate is 50% "
   ]
  },
  {
   "cell_type": "markdown",
   "metadata": {},
   "source": [
    "### Problem 2.8\n"
   ]
  },
  {
   "cell_type": "code",
   "execution_count": 42,
   "metadata": {},
   "outputs": [
    {
     "data": {
      "text/plain": [
       "(12, 0.38)"
      ]
     },
     "execution_count": 42,
     "metadata": {},
     "output_type": "execute_result"
    }
   ],
   "source": [
    "## Uses 2000 as train\n",
    "df1 = pd.read_csv('obesity_election_2000.csv') \n",
    "df1.columns = ['State', 'index', 'vote', 'abbv']\n",
    "\n",
    "# Convert the index str to float and save it as feature\n",
    "df1['index'] = df1['index'].str.replace('%', '').astype(float) \n",
    "X = df1['index'].values.reshape(-1,1) \n",
    "\n",
    "# Convert Democrats to 0 and Repulicans to 1 \n",
    "df1['vote'] = df1['vote'].map({'D': 0, 'R': 1}).values\n",
    "y = df1['vote']\n",
    "\n",
    "# Uses Leave one out cross validation to find the optimal k value\n",
    "loo = LeaveOneOut()\n",
    "k_vals = range(1,21)\n",
    "acc_scores = []\n",
    "\n",
    "for k in k_vals:\n",
    "    knn = neighbors.KNeighborsClassifier(n_neighbors=k)  \n",
    "    preds = []\n",
    "        \n",
    "    for i ,(train_index, test_index) in enumerate(loo.split(X)):\n",
    "        X_train, X_test = X[train_index], X[test_index]\n",
    "        y_train, y_test = y[train_index], y[test_index]\n",
    "        # print(f\"fold {i}\")\n",
    "        # print(f\"  Train: index={train_index}\")\n",
    "        # print(f\"  Test:  index={test_index}\")\n",
    "\n",
    "        knn.fit(X_train, y_train)\n",
    "        pred = knn.predict(X_test)\n",
    "        # print(f\"k = {k} i = {i} pred = {pred}\")\n",
    "        preds.append(pred)\n",
    "        \n",
    "    acc = accuracy_score(y, preds)\n",
    "    acc_scores.append(acc)\n",
    "    \n",
    "opt_k = k_vals[acc_scores.index(max(acc_scores))]\n",
    "opt_acc = max(acc_scores)\n",
    "res_err = 1 - opt_acc\n",
    "\n",
    "opt_k, res_err\n"
   ]
  },
  {
   "cell_type": "markdown",
   "metadata": {},
   "source": [
    "- This time the resampling error rate is 38%, with optimal k = 12"
   ]
  },
  {
   "cell_type": "code",
   "execution_count": 43,
   "metadata": {},
   "outputs": [
    {
     "data": {
      "text/plain": [
       "0.38"
      ]
     },
     "execution_count": 43,
     "metadata": {},
     "output_type": "execute_result"
    }
   ],
   "source": [
    "df2 = pd.read_csv('obesity_election_2004.csv')\n",
    "df2.columns = ['State', 'index', 'vote', 'abbv']\n",
    "\n",
    "df2['index'] = df2['index'].str.replace('%', '').astype(float) \n",
    "X_test = df2['index'].values.reshape(-1,1) \n",
    "\n",
    "df2['vote'] = df2['vote'].map({'D': 0, 'R': 1}).values\n",
    "y_test = df2['vote']\n",
    "\n",
    "\n",
    "knn = neighbors.KNeighborsClassifier(n_neighbors= opt_k)\n",
    "knn.fit(X, y) # take 2004 as training data\n",
    "y_pred = knn.predict(X_test)\n",
    "\n",
    "acc = accuracy_score(y_test, y_pred)\n",
    "test_err = 1 - acc\n",
    "\n",
    "test_err"
   ]
  },
  {
   "cell_type": "markdown",
   "metadata": {},
   "source": [
    "- We got a same test error rate as the resamplng one"
   ]
  },
  {
   "cell_type": "markdown",
   "metadata": {},
   "source": [
    "### Problem 2.11\n",
    "The data consists of n = 10 samples, (x, y), where x is uniformly distributed in [0,1] \n",
    "y = x^2 + 0.1x + noise and the noise has Gaussian distributionN(0, 0.25).\n",
    "The noise has variance 0.25 or standard deviation 0.5."
   ]
  },
  {
   "cell_type": "code",
   "execution_count": 4,
   "metadata": {},
   "outputs": [
    {
     "name": "stderr",
     "output_type": "stream",
     "text": [
      "Matplotlib is building the font cache; this may take a moment.\n"
     ]
    },
    {
     "data": {
      "text/plain": [
       "<matplotlib.collections.PathCollection at 0x1721e3ca0>"
      ]
     },
     "execution_count": 4,
     "metadata": {},
     "output_type": "execute_result"
    },
    {
     "data": {
      "image/png": "[encoded data removed]",
      "text/plain": [
       "<Figure size 640x480 with 1 Axes>"
      ]
     },
     "metadata": {},
     "output_type": "display_data"
    }
   ],
   "source": [
    "import numpy as np\n",
    "import matplotlib.pyplot as plt\n",
    "from sklearn.linear_model import LinearRegression\n",
    "\n",
    "np.random.seed(42)\n",
    "x = np.random.uniform(0, 1, 10)\n",
    "noise = np.random.normal(0, np.sqrt(0.25), 10)\n",
    "y = x**2 + 0.1 * x + noise\n",
    "plt.scatter(x, y, color='black', label='Data Points' )\n",
    "\n",
    "\n",
    "errors = []\n",
    "complexities = range(1, 6)  # Choose a range for m+1 (e.g., 1 to 5)\n",
    "for m in complexities:\n",
    "    # Create feature matrix for trigonometric terms\n",
    "    X = np.column_stack([np.cos(2 * np.pi * i * x) for i in range(1, m + 1)])\n",
    "    \n",
    "    # Add bias term (w_0)\n",
    "    X = np.column_stack([np.ones(x.shape), X])\n",
    "    \n",
    "    # Fit model\n",
    "    model = LinearRegression()\n",
    "    model.fit(X, y)\n",
    "    y_pred = model.predict(X)\n",
    "    \n",
    "    # Calculate empirical risk (MSE)\n",
    "    mse = np.mean((y - y_pred) ** 2)\n",
    "    errors.append(mse)\n",
    "\n",
    "\n"
   ]
  },
  {
   "cell_type": "code",
   "execution_count": null,
   "metadata": {},
   "outputs": [],
   "source": []
  }
 ],
 "metadata": {
  "kernelspec": {
   "display_name": "hw01env",
   "language": "python",
   "name": "python3"
  },
  "language_info": {
   "codemirror_mode": {
    "name": "ipython",
    "version": 3
   },
   "file_extension": ".py",
   "mimetype": "text/x-python",
   "name": "python",
   "nbconvert_exporter": "python",
   "pygments_lexer": "ipython3",
   "version": "3.9.16"
  }
 },
 "nbformat": 4,
 "nbformat_minor": 2
}
