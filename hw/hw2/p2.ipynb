{
 "cells": [
  {
   "cell_type": "code",
   "execution_count": 2,
   "metadata": {},
   "outputs": [
    {
     "name": "stdout",
     "output_type": "stream",
     "text": [
      "Forward Probabilities (alpha):\n",
      "[[3.50000000e-01 1.79200000e-01 2.52100000e-02 3.02824000e-03\n",
      "  1.47273120e-03 2.11233200e-04 3.69826262e-04]\n",
      " [2.00000000e-02 8.50000000e-03 1.25880000e-02 6.62040000e-03\n",
      "  9.45268800e-04 4.60284960e-04 2.23192336e-05]\n",
      " [9.00000000e-02 3.57000000e-02 2.21560000e-02 5.59128000e-03\n",
      "  1.89014720e-03 4.28602080e-04 1.04581402e-04]]\n",
      "\n",
      "Total Probability of the Observation Sequence: 0.0004967268975999999\n"
     ]
    }
   ],
   "source": [
    "import numpy as np\n",
    "\n",
    "# Transition and emission matrices, and initial probabilities\n",
    "A = np.array([[0.6, 0.2, 0.2], [0.5, 0.3, 0.2], [0.4, 0.1, 0.5]])\n",
    "B = np.array([[0.7, 0.1, 0.2], [0.1, 0.6, 0.3], [0.3, 0.3, 0.4]])\n",
    "init = np.array([0.5, 0.2, 0.3])\n",
    "\n",
    "# Observation sequence indices (corresponding to \"up\", \"down\", \"unchanged\")\n",
    "obs_index = [0, 0, 2, 1, 2, 1, 0] \n",
    "\n",
    "# Number of states and length of the observation sequence\n",
    "N = len(init)\n",
    "T = len(obs_index)\n",
    "\n",
    "# Forward algorithm implementation\n",
    "alpha = np.zeros((N, T))\n",
    "\n",
    "# Initialization step\n",
    "for i in range(N):\n",
    "    alpha[i, 0] = init[i] * B[i, obs_index[0]]\n",
    "\n",
    "# Recursion step\n",
    "for t in range(1, T):\n",
    "    for j in range(N):\n",
    "        alpha[j, t] = sum(alpha[i, t-1] * A[i, j] for i in range(N)) * B[j, obs_index[t]]\n",
    "\n",
    "# Termination step: Calculate the total probability of the observation sequence\n",
    "total_probability = sum(alpha[i, T-1] for i in range(N))\n",
    "\n",
    "# Output the result\n",
    "print(\"Forward Probabilities (alpha):\")\n",
    "print(alpha)\n",
    "print(\"\\nTotal Probability of the Observation Sequence:\", total_probability)"
   ]
  },
  {
   "cell_type": "code",
   "execution_count": 3,
   "metadata": {},
   "outputs": [
    {
     "name": "stdout",
     "output_type": "stream",
     "text": [
      "Optimal State Sequence: [np.int64(1), np.int64(1), np.int64(3), np.int64(3), np.int64(3), np.int64(3), np.int64(1)]\n",
      "Maximum Probability: 1.48176e-05\n"
     ]
    }
   ],
   "source": [
    "import numpy as np\n",
    "\n",
    "def viterbi_algorithm(obs, states, start_p, trans_p, emit_p):\n",
    "    # Initialize tables\n",
    "    max_prob = np.zeros((len(states), len(obs)))\n",
    "    path = np.zeros((len(states), len(obs)), dtype=int)\n",
    "\n",
    "    # Initialization step\n",
    "    for i in range(len(states)):\n",
    "        max_prob[i, 0] = start_p[i] * emit_p[i, obs[0]]\n",
    "        path[i, 0] = i\n",
    "\n",
    "    # Recursion step\n",
    "    for t in range(1, len(obs)):\n",
    "        new_path = np.zeros((len(states), len(obs)), dtype=int)\n",
    "        for j in range(len(states)):\n",
    "            (prob, state) = max(\n",
    "                (max_prob[i, t - 1] * trans_p[i, j] * emit_p[j, obs[t]], i)\n",
    "                for i in range(len(states))\n",
    "            )\n",
    "            max_prob[j, t] = prob\n",
    "            new_path[j] = path[state]\n",
    "            new_path[j, t] = j\n",
    "        path = new_path\n",
    "\n",
    "    # Termination step\n",
    "    (prob, state) = max((max_prob[i, len(obs) - 1], i) for i in range(len(states)))\n",
    "    optimal_path = path[state]\n",
    "\n",
    "    return optimal_path, prob\n",
    "\n",
    "# Define parameters\n",
    "states = [0, 1, 2]\n",
    "obs = [0, 0, 2, 1, 2, 1, 0]  # Observation indices corresponding to \"up\", \"down\", \"unchanged\"\n",
    "start_p = [0.5, 0.2, 0.3]\n",
    "trans_p = np.array([[0.6, 0.2, 0.2], [0.5, 0.3, 0.2], [0.4, 0.1, 0.5]])\n",
    "emit_p = np.array([[0.7, 0.1, 0.2], [0.1, 0.6, 0.3], [0.3, 0.3, 0.4]])\n",
    "\n",
    "# Solve using Viterbi algorithm\n",
    "optimal_sequence, max_probability = viterbi_algorithm(obs, states, start_p, trans_p, emit_p)\n",
    "\n",
    "# Output results\n",
    "print(\"Optimal State Sequence:\", [s + 1 for s in optimal_sequence])  # Convert to 1-based index\n",
    "print(\"Maximum Probability:\", max_probability)"
   ]
  },
  {
   "cell_type": "code",
   "execution_count": null,
   "metadata": {},
   "outputs": [],
   "source": []
  }
 ],
 "metadata": {
  "kernelspec": {
   "display_name": "hw02env",
   "language": "python",
   "name": "python3"
  },
  "language_info": {
   "codemirror_mode": {
    "name": "ipython",
    "version": 3
   },
   "file_extension": ".py",
   "mimetype": "text/x-python",
   "name": "python",
   "nbconvert_exporter": "python",
   "pygments_lexer": "ipython3",
   "version": "3.9.16"
  }
 },
 "nbformat": 4,
 "nbformat_minor": 2
}
